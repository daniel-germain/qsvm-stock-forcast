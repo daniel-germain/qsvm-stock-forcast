{
 "cells": [
  {
   "cell_type": "code",
   "execution_count": 34,
   "id": "3be2e5be-70e9-4a1c-9482-39c46799ea66",
   "metadata": {},
   "outputs": [],
   "source": [
    "import pennylane as qml\n",
    "import yfinance as yf\n",
    "import pandas as pd\n",
    "import numpy as np\n",
    "from pennylane.optimize import NesterovMomentumOptimizer\n",
    "import numpy as np\n",
    "from sklearn.preprocessing import MinMaxScaler\n",
    "from sklearn.model_selection import train_test_split"
   ]
  },
  {
   "cell_type": "code",
   "execution_count": 48,
   "id": "fc5718dc-c107-4f17-a1a2-0e6ae0bc43a1",
   "metadata": {},
   "outputs": [
    {
     "name": "stderr",
     "output_type": "stream",
     "text": [
      "[*********************100%***********************]  1 of 1 completed\n"
     ]
    }
   ],
   "source": [
    "# Import Data\n",
    "\n",
    "ticker = \"TSLA\"\n",
    "start = \"2020-01-01\"\n",
    "end = \"2025-01-01\"\n",
    "interval = \"1d\"\n",
    "stock_data = yf.download(ticker, start, end, interval, auto_adjust = False)"
   ]
  },
  {
   "cell_type": "code",
   "execution_count": 49,
   "id": "bdce41c0-9abf-48fb-8711-0c0556ee5d24",
   "metadata": {},
   "outputs": [
    {
     "data": {
      "text/html": [
       "<div>\n",
       "<style scoped>\n",
       "    .dataframe tbody tr th:only-of-type {\n",
       "        vertical-align: middle;\n",
       "    }\n",
       "\n",
       "    .dataframe tbody tr th {\n",
       "        vertical-align: top;\n",
       "    }\n",
       "\n",
       "    .dataframe thead tr th {\n",
       "        text-align: left;\n",
       "    }\n",
       "\n",
       "    .dataframe thead tr:last-of-type th {\n",
       "        text-align: right;\n",
       "    }\n",
       "</style>\n",
       "<table border=\"1\" class=\"dataframe\">\n",
       "  <thead>\n",
       "    <tr>\n",
       "      <th>Price</th>\n",
       "      <th>Adj Close</th>\n",
       "      <th>Close</th>\n",
       "      <th>Dividends</th>\n",
       "      <th>High</th>\n",
       "      <th>Low</th>\n",
       "      <th>Open</th>\n",
       "      <th>Stock Splits</th>\n",
       "      <th>Volume</th>\n",
       "    </tr>\n",
       "    <tr>\n",
       "      <th>Ticker</th>\n",
       "      <th>TSLA</th>\n",
       "      <th>TSLA</th>\n",
       "      <th>TSLA</th>\n",
       "      <th>TSLA</th>\n",
       "      <th>TSLA</th>\n",
       "      <th>TSLA</th>\n",
       "      <th>TSLA</th>\n",
       "      <th>TSLA</th>\n",
       "    </tr>\n",
       "    <tr>\n",
       "      <th>Date</th>\n",
       "      <th></th>\n",
       "      <th></th>\n",
       "      <th></th>\n",
       "      <th></th>\n",
       "      <th></th>\n",
       "      <th></th>\n",
       "      <th></th>\n",
       "      <th></th>\n",
       "    </tr>\n",
       "  </thead>\n",
       "  <tbody>\n",
       "    <tr>\n",
       "      <th>2020-01-02</th>\n",
       "      <td>28.684000</td>\n",
       "      <td>28.684000</td>\n",
       "      <td>0.0</td>\n",
       "      <td>28.713333</td>\n",
       "      <td>28.114000</td>\n",
       "      <td>28.299999</td>\n",
       "      <td>0.0</td>\n",
       "      <td>142981500</td>\n",
       "    </tr>\n",
       "    <tr>\n",
       "      <th>2020-01-03</th>\n",
       "      <td>29.534000</td>\n",
       "      <td>29.534000</td>\n",
       "      <td>0.0</td>\n",
       "      <td>30.266666</td>\n",
       "      <td>29.128000</td>\n",
       "      <td>29.366667</td>\n",
       "      <td>0.0</td>\n",
       "      <td>266677500</td>\n",
       "    </tr>\n",
       "    <tr>\n",
       "      <th>2020-01-06</th>\n",
       "      <td>30.102667</td>\n",
       "      <td>30.102667</td>\n",
       "      <td>0.0</td>\n",
       "      <td>30.104000</td>\n",
       "      <td>29.333332</td>\n",
       "      <td>29.364668</td>\n",
       "      <td>0.0</td>\n",
       "      <td>151995000</td>\n",
       "    </tr>\n",
       "    <tr>\n",
       "      <th>2020-01-07</th>\n",
       "      <td>31.270666</td>\n",
       "      <td>31.270666</td>\n",
       "      <td>0.0</td>\n",
       "      <td>31.441999</td>\n",
       "      <td>30.224001</td>\n",
       "      <td>30.760000</td>\n",
       "      <td>0.0</td>\n",
       "      <td>268231500</td>\n",
       "    </tr>\n",
       "    <tr>\n",
       "      <th>2020-01-08</th>\n",
       "      <td>32.809334</td>\n",
       "      <td>32.809334</td>\n",
       "      <td>0.0</td>\n",
       "      <td>33.232666</td>\n",
       "      <td>31.215334</td>\n",
       "      <td>31.580000</td>\n",
       "      <td>0.0</td>\n",
       "      <td>467164500</td>\n",
       "    </tr>\n",
       "    <tr>\n",
       "      <th>...</th>\n",
       "      <td>...</td>\n",
       "      <td>...</td>\n",
       "      <td>...</td>\n",
       "      <td>...</td>\n",
       "      <td>...</td>\n",
       "      <td>...</td>\n",
       "      <td>...</td>\n",
       "      <td>...</td>\n",
       "    </tr>\n",
       "    <tr>\n",
       "      <th>2024-12-24</th>\n",
       "      <td>462.279999</td>\n",
       "      <td>462.279999</td>\n",
       "      <td>0.0</td>\n",
       "      <td>462.779999</td>\n",
       "      <td>435.140015</td>\n",
       "      <td>435.899994</td>\n",
       "      <td>0.0</td>\n",
       "      <td>59551800</td>\n",
       "    </tr>\n",
       "    <tr>\n",
       "      <th>2024-12-26</th>\n",
       "      <td>454.130005</td>\n",
       "      <td>454.130005</td>\n",
       "      <td>0.0</td>\n",
       "      <td>465.329987</td>\n",
       "      <td>451.019989</td>\n",
       "      <td>465.160004</td>\n",
       "      <td>0.0</td>\n",
       "      <td>76366400</td>\n",
       "    </tr>\n",
       "    <tr>\n",
       "      <th>2024-12-27</th>\n",
       "      <td>431.660004</td>\n",
       "      <td>431.660004</td>\n",
       "      <td>0.0</td>\n",
       "      <td>450.000000</td>\n",
       "      <td>426.500000</td>\n",
       "      <td>449.519989</td>\n",
       "      <td>0.0</td>\n",
       "      <td>82666800</td>\n",
       "    </tr>\n",
       "    <tr>\n",
       "      <th>2024-12-30</th>\n",
       "      <td>417.410004</td>\n",
       "      <td>417.410004</td>\n",
       "      <td>0.0</td>\n",
       "      <td>427.000000</td>\n",
       "      <td>415.750000</td>\n",
       "      <td>419.399994</td>\n",
       "      <td>0.0</td>\n",
       "      <td>64941000</td>\n",
       "    </tr>\n",
       "    <tr>\n",
       "      <th>2024-12-31</th>\n",
       "      <td>403.839996</td>\n",
       "      <td>403.839996</td>\n",
       "      <td>0.0</td>\n",
       "      <td>427.929993</td>\n",
       "      <td>402.540009</td>\n",
       "      <td>423.790009</td>\n",
       "      <td>0.0</td>\n",
       "      <td>76825100</td>\n",
       "    </tr>\n",
       "  </tbody>\n",
       "</table>\n",
       "<p>1258 rows × 8 columns</p>\n",
       "</div>"
      ],
      "text/plain": [
       "Price        Adj Close       Close Dividends        High         Low  \\\n",
       "Ticker            TSLA        TSLA      TSLA        TSLA        TSLA   \n",
       "Date                                                                   \n",
       "2020-01-02   28.684000   28.684000       0.0   28.713333   28.114000   \n",
       "2020-01-03   29.534000   29.534000       0.0   30.266666   29.128000   \n",
       "2020-01-06   30.102667   30.102667       0.0   30.104000   29.333332   \n",
       "2020-01-07   31.270666   31.270666       0.0   31.441999   30.224001   \n",
       "2020-01-08   32.809334   32.809334       0.0   33.232666   31.215334   \n",
       "...                ...         ...       ...         ...         ...   \n",
       "2024-12-24  462.279999  462.279999       0.0  462.779999  435.140015   \n",
       "2024-12-26  454.130005  454.130005       0.0  465.329987  451.019989   \n",
       "2024-12-27  431.660004  431.660004       0.0  450.000000  426.500000   \n",
       "2024-12-30  417.410004  417.410004       0.0  427.000000  415.750000   \n",
       "2024-12-31  403.839996  403.839996       0.0  427.929993  402.540009   \n",
       "\n",
       "Price             Open Stock Splits     Volume  \n",
       "Ticker            TSLA         TSLA       TSLA  \n",
       "Date                                            \n",
       "2020-01-02   28.299999          0.0  142981500  \n",
       "2020-01-03   29.366667          0.0  266677500  \n",
       "2020-01-06   29.364668          0.0  151995000  \n",
       "2020-01-07   30.760000          0.0  268231500  \n",
       "2020-01-08   31.580000          0.0  467164500  \n",
       "...                ...          ...        ...  \n",
       "2024-12-24  435.899994          0.0   59551800  \n",
       "2024-12-26  465.160004          0.0   76366400  \n",
       "2024-12-27  449.519989          0.0   82666800  \n",
       "2024-12-30  419.399994          0.0   64941000  \n",
       "2024-12-31  423.790009          0.0   76825100  \n",
       "\n",
       "[1258 rows x 8 columns]"
      ]
     },
     "execution_count": 49,
     "metadata": {},
     "output_type": "execute_result"
    }
   ],
   "source": [
    "stock_data"
   ]
  },
  {
   "cell_type": "code",
   "execution_count": 36,
   "id": "3a301902-9339-4eeb-9589-5ae19cd88aea",
   "metadata": {},
   "outputs": [],
   "source": [
    "# Feature Selection\n",
    "\n",
    "stock_features = stock_data[[\"Open\", \"High\", \"Low\", \"Adj Close\", \"Volume\"]].copy()\n",
    "\n",
    "stock_features[\"Log Returns\"] = np.log(stock_features[\"Adj Close\"]/stock_features[\"Adj Close\"].shift(1))\n",
    "stock_features[\"Price Change\"] = stock_features[\"Adj Close\"] - stock_features[\"Adj Close\"].shift(1)\n",
    "\n",
    "# Classifieres \n",
    "classifiers = pd.DataFrame()\n",
    "classifiers['target'] = (stock_features['Adj Close'].shift(-1) > stock_features['Adj Close']).astype(int)\n",
    "\n",
    "\n",
    "# Drop Na\n",
    "stock_features = stock_features.dropna()\n",
    "classifiers = classifiers.loc[stock_features.index]\n",
    "\n",
    "\n",
    "\n",
    "# Scale Features\n",
    "scaler = MinMaxScaler()\n",
    "features_scaled = scaler.fit_transform(stock_features)\n",
    "\n",
    "classifier_array = classifiers.to_numpy().flatten()\n",
    "\n",
    "\n",
    "\n"
   ]
  },
  {
   "cell_type": "code",
   "execution_count": 37,
   "id": "eda0db14-19cb-4083-84c1-edaa6766c653",
   "metadata": {},
   "outputs": [
    {
     "data": {
      "text/plain": [
       "array([1, 1, 1, ..., 0, 0, 0])"
      ]
     },
     "execution_count": 37,
     "metadata": {},
     "output_type": "execute_result"
    }
   ],
   "source": [
    "classifier_array"
   ]
  },
  {
   "cell_type": "code",
   "execution_count": 38,
   "id": "ffd5293e-4f40-44af-93bd-ac69662a53c1",
   "metadata": {},
   "outputs": [],
   "source": [
    "x_train, x_test, y_train, y_test = train_test_split(features_scaled, classifier_array, test_size = .2)"
   ]
  },
  {
   "cell_type": "code",
   "execution_count": 39,
   "id": "b933fa21-cd3e-4125-a729-170e8ef5f539",
   "metadata": {},
   "outputs": [],
   "source": [
    "import pennylane as qml\n",
    "from pennylane.kernels import square_kernel_matrix\n",
    "from pennylane.kernels import kernel_matrix\n",
    "from sklearn.svm import SVC"
   ]
  },
  {
   "cell_type": "code",
   "execution_count": 40,
   "id": "4cd57aa7-a579-4a64-9165-e2e21c2c2b35",
   "metadata": {},
   "outputs": [],
   "source": [
    "# Create Qubits\n",
    "n_qubits = x_train.shape[1] # \n",
    "dev = qml.device(\"default.qubit\", wires=n_qubits) # We are simulating a quantum system with pennylanes default"
   ]
  },
  {
   "cell_type": "markdown",
   "id": "350ad748-61ab-4f4d-ab6e-fa986f846ef7",
   "metadata": {},
   "source": [
    "Note: x_tain.shape puts the shape othe 2d array as a tuple with the first entry being the rows and the second being the columns. By grabbing the number of columns, we are automatically grabbing the numbers of features! For quantum machine learning each feature is encoded in sperate qubit!"
   ]
  },
  {
   "cell_type": "code",
   "execution_count": 41,
   "id": "b0f3d7a9-60da-4c23-8960-ccd866b5221a",
   "metadata": {},
   "outputs": [],
   "source": [
    "# Angle Encoding Circut\n",
    "@qml.qnode(dev)\n",
    "def circut(x1, x2):\n",
    "    qml.templates.AngleEmbedding(x1, wires=range(n_qubits)) # template that applies rotation aroundy axis by default!\n",
    "    qml.adjoint(qml.templates.AngleEmbedding)(x2, wires=range(n_qubits)) # calculates the hermitian adjoint (inverse)\n",
    "    return qml.probs(wires=range(n_qubits))\n"
   ]
  },
  {
   "cell_type": "markdown",
   "id": "d7917925-3e11-4539-8a33-ecc58fab9820",
   "metadata": {},
   "source": [
    "We use angle encoding to convert the classic data into quantum states but creating a su2 rotation from the original data and applying it into the original state. "
   ]
  },
  {
   "cell_type": "code",
   "execution_count": 42,
   "id": "379a07ea-45df-4e1b-8863-8c2e0be591c4",
   "metadata": {},
   "outputs": [],
   "source": [
    "from pennylane.kernels import square_kernel_matrix\n",
    "from pennylane.kernels import kernel_matrix\n",
    "\n",
    "# Create Kernel Funnction with quantum circut\n",
    "def quantum_kernel(x1, x2):\n",
    "    return circut(x1, x2)[0]\n",
    "\n",
    "\n",
    "# Kernal Matices\n",
    "x_train_kernel = square_kernel_matrix(x_train, kernel=quantum_kernel)\n",
    "x_test_kernel = kernel_matrix(x_test, x_train, kernel=quantum_kernel)"
   ]
  },
  {
   "cell_type": "code",
   "execution_count": 43,
   "id": "f6cc8eda-91be-4604-8e28-7d4123d0d222",
   "metadata": {},
   "outputs": [],
   "source": [
    "# Train the SVM\n",
    "clf = SVC(kernel='precomputed')\n",
    "clf.fit(x_train_kernel, y_train)\n",
    "\n",
    "y_pred = clf.predict(x_test_kernel)\n"
   ]
  },
  {
   "cell_type": "code",
   "execution_count": 44,
   "id": "8cd805c9-bdb7-4748-9fa7-ed7846b3141c",
   "metadata": {},
   "outputs": [
    {
     "name": "stdout",
     "output_type": "stream",
     "text": [
      "Accuracy: 0.5238095238095238\n"
     ]
    }
   ],
   "source": [
    "from sklearn.metrics import accuracy_score\n",
    "\n",
    "print(\"Accuracy:\", accuracy_score(y_test, y_pred))"
   ]
  },
  {
   "cell_type": "code",
   "execution_count": 45,
   "id": "ec08a95d-80fb-4969-8759-5b4ac04d38de",
   "metadata": {},
   "outputs": [
    {
     "name": "stdout",
     "output_type": "stream",
     "text": [
      "Accuracy: 0.5238095238095238\n"
     ]
    }
   ],
   "source": [
    "# Optimization: Introduce Entaglement in Feature Maps (CNOT Entaglement)\n",
    "\n",
    "@qml.qnode(dev)\n",
    "def circut(x1, x2):\n",
    "    qml.templates.AngleEmbedding(x1, wires=range(n_qubits))\n",
    "\n",
    "    # CNOT ENTAGLEMENT\n",
    "    for i in range(n_qubits - 1):\n",
    "        qml.CNOT(wires=[i, i + 1])\n",
    "    \n",
    "    qml.adjoint(qml.templates.AngleEmbedding)(x2, wires=range(n_qubits)) \n",
    "    return qml.probs(wires=range(n_qubits))\n",
    "\n",
    "\n",
    "# Create Kernel Funnction with quantum circut\n",
    "def quantum_kernel(x1, x2):\n",
    "    return circut(x1, x2)[0]\n",
    "\n",
    "\n",
    "# Kernal Matices\n",
    "x_train_kernel = square_kernel_matrix(x_train, kernel=quantum_kernel)\n",
    "x_test_kernel = kernel_matrix(x_test, x_train, kernel=quantum_kernel)\n",
    "\n",
    "# Train the SVM\n",
    "clf = SVC(kernel='precomputed')\n",
    "clf.fit(x_train_kernel, y_train)\n",
    "\n",
    "y_pred = clf.predict(x_test_kernel)\n",
    "\n",
    "from sklearn.metrics import accuracy_score\n",
    "\n",
    "print(\"Accuracy:\", accuracy_score(y_test, y_pred))\n",
    "\n"
   ]
  },
  {
   "cell_type": "code",
   "execution_count": 46,
   "id": "7f70c864-e0c1-4a64-b5c2-dd64a4febdce",
   "metadata": {},
   "outputs": [
    {
     "name": "stdout",
     "output_type": "stream",
     "text": [
      "Accuracy: 0.5238095238095238\n"
     ]
    }
   ],
   "source": [
    "# Optimization: Introduce Entaglement in Feature Maps (XX Entaglement)\n",
    "\n",
    "@qml.qnode(dev)\n",
    "def circuit(x1, x2):\n",
    "    qml.templates.AngleEmbedding(x1, wires=range(n_qubits))\n",
    "    \n",
    "    # Ising Entaglment\n",
    "    for i in range(n_qubits - 1):\n",
    "        qml.IsingXX(np.pi / 2, wires=[i, i + 1])\n",
    "    \n",
    "    qml.adjoint(qml.templates.AngleEmbedding)(x2, wires=range(n_qubits))\n",
    "    return qml.probs(wires=range(n_qubits))\n",
    "\n",
    "\n",
    "# Create Kernel Funnction with quantum circut\n",
    "def quantum_kernel(x1, x2):\n",
    "    return circut(x1, x2)[0]\n",
    "\n",
    "\n",
    "# Kernal Matices\n",
    "x_train_kernel = square_kernel_matrix(x_train, kernel=quantum_kernel)\n",
    "x_test_kernel = kernel_matrix(x_test, x_train, kernel=quantum_kernel)\n",
    "\n",
    "# Train the SVM\n",
    "clf = SVC(kernel='precomputed')\n",
    "clf.fit(x_train_kernel, y_train)\n",
    "\n",
    "y_pred = clf.predict(x_test_kernel)\n",
    "\n",
    "from sklearn.metrics import accuracy_score\n",
    "\n",
    "print(\"Accuracy:\", accuracy_score(y_test, y_pred))"
   ]
  },
  {
   "cell_type": "code",
   "execution_count": 47,
   "id": "50edc3fd-d4f5-4448-8f05-de65d574c402",
   "metadata": {},
   "outputs": [
    {
     "name": "stdout",
     "output_type": "stream",
     "text": [
      "Accuracy: 0.5238095238095238\n"
     ]
    }
   ],
   "source": [
    "# Optimization With Layers\n",
    "\n",
    "@qml.qnode(dev)\n",
    "def circuit(x1, x2):\n",
    "    qml.templates.AngleEmbedding(x1, wires=range(n_qubits))\n",
    "    \n",
    "    # Ising entanglement between neighbors\n",
    "    for _ in range(n_layers):  \n",
    "        for i in range(n_qubits - 1):\n",
    "            qml.IsingXX(np.pi / 2, wires=[i, i + 1])\n",
    "        for i in range(n_qubits):\n",
    "            qml.RY(np.pi / 4, wires=i)  \n",
    "    \n",
    "    qml.adjoint(qml.templates.AngleEmbedding)(x2, wires=range(n_qubits))\n",
    "    return qml.probs(wires=range(n_qubits))\n",
    "\n",
    "\n",
    "# Create Kernel Funnction with quantum circut\n",
    "def quantum_kernel(x1, x2):\n",
    "    return circut(x1, x2)[0]\n",
    "\n",
    "\n",
    "# Kernal Matices\n",
    "x_train_kernel = square_kernel_matrix(x_train, kernel=quantum_kernel)\n",
    "x_test_kernel = kernel_matrix(x_test, x_train, kernel=quantum_kernel)\n",
    "\n",
    "# Train the SVM\n",
    "clf = SVC(kernel='precomputed')\n",
    "clf.fit(x_train_kernel, y_train)\n",
    "\n",
    "y_pred = clf.predict(x_test_kernel)\n",
    "\n",
    "from sklearn.metrics import accuracy_score\n",
    "\n",
    "print(\"Accuracy:\", accuracy_score(y_test, y_pred))"
   ]
  }
 ],
 "metadata": {
  "kernelspec": {
   "display_name": "Python 3 (ipykernel)",
   "language": "python",
   "name": "python3"
  },
  "language_info": {
   "codemirror_mode": {
    "name": "ipython",
    "version": 3
   },
   "file_extension": ".py",
   "mimetype": "text/x-python",
   "name": "python",
   "nbconvert_exporter": "python",
   "pygments_lexer": "ipython3",
   "version": "3.12.7"
  }
 },
 "nbformat": 4,
 "nbformat_minor": 5
}
