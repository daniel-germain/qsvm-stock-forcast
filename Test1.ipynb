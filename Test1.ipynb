{
 "cells": [
  {
   "cell_type": "markdown",
   "id": "2d2272e4-ecf3-47b9-bf85-9324024d0339",
   "metadata": {
    "jp-MarkdownHeadingCollapsed": true
   },
   "source": [
    "# Set Up"
   ]
  },
  {
   "cell_type": "code",
   "execution_count": 1,
   "id": "3be2e5be-70e9-4a1c-9482-39c46799ea66",
   "metadata": {},
   "outputs": [],
   "source": [
    "# Data Processing Packagesx\n",
    "import yfinance as yf\n",
    "import pandas as pd\n",
    "import numpy as np\n",
    "import numpy as np\n",
    "# -----------------------\n",
    "\n",
    "# ML Packages\n",
    "from sklearn.preprocessing import MinMaxScaler\n",
    "from sklearn.model_selection import train_test_split\n",
    "from sklearn.metrics import roc_auc_score, average_precision_score\n",
    "from sklearn.svm import SVC\n",
    "from sklearn.metrics import classification_report, confusion_matrix, precision_score, recall_score, f1_score, accuracy_score\n",
    "from sklearn.metrics import accuracy_score\n",
    "# -----------------------\n",
    "\n",
    "# Quantum Computing Packages\n",
    "from pennylane.optimize import NesterovMomentumOptimizer\n",
    "import pennylane as qml\n",
    "from pennylane.kernels import square_kernel_matrix, kernel_matrix\n",
    "import pennylane as qml\n",
    "# -----------------------"
   ]
  },
  {
   "cell_type": "markdown",
   "id": "f94402f3-2c7e-454e-b205-3e487e6e4c4c",
   "metadata": {
    "jp-MarkdownHeadingCollapsed": true
   },
   "source": [
    "# Feature Engineering"
   ]
  },
  {
   "cell_type": "code",
   "execution_count": 2,
   "id": "fc5718dc-c107-4f17-a1a2-0e6ae0bc43a1",
   "metadata": {},
   "outputs": [
    {
     "name": "stderr",
     "output_type": "stream",
     "text": [
      "[*********************100%***********************]  1 of 1 completed\n"
     ]
    }
   ],
   "source": [
    "# Import Data\n",
    "\n",
    "ticker = \"TSLA\"\n",
    "start = \"2020-01-01\"\n",
    "end = \"2025-01-01\"\n",
    "interval = \"1d\"\n",
    "stock_data = yf.download(ticker, start, end, interval, auto_adjust = False)"
   ]
  },
  {
   "cell_type": "code",
   "execution_count": 3,
   "id": "bdce41c0-9abf-48fb-8711-0c0556ee5d24",
   "metadata": {},
   "outputs": [
    {
     "data": {
      "text/html": [
       "<div>\n",
       "<style scoped>\n",
       "    .dataframe tbody tr th:only-of-type {\n",
       "        vertical-align: middle;\n",
       "    }\n",
       "\n",
       "    .dataframe tbody tr th {\n",
       "        vertical-align: top;\n",
       "    }\n",
       "\n",
       "    .dataframe thead tr th {\n",
       "        text-align: left;\n",
       "    }\n",
       "\n",
       "    .dataframe thead tr:last-of-type th {\n",
       "        text-align: right;\n",
       "    }\n",
       "</style>\n",
       "<table border=\"1\" class=\"dataframe\">\n",
       "  <thead>\n",
       "    <tr>\n",
       "      <th>Price</th>\n",
       "      <th>Adj Close</th>\n",
       "      <th>Close</th>\n",
       "      <th>Dividends</th>\n",
       "      <th>High</th>\n",
       "      <th>Low</th>\n",
       "      <th>Open</th>\n",
       "      <th>Stock Splits</th>\n",
       "      <th>Volume</th>\n",
       "    </tr>\n",
       "    <tr>\n",
       "      <th>Ticker</th>\n",
       "      <th>TSLA</th>\n",
       "      <th>TSLA</th>\n",
       "      <th>TSLA</th>\n",
       "      <th>TSLA</th>\n",
       "      <th>TSLA</th>\n",
       "      <th>TSLA</th>\n",
       "      <th>TSLA</th>\n",
       "      <th>TSLA</th>\n",
       "    </tr>\n",
       "    <tr>\n",
       "      <th>Date</th>\n",
       "      <th></th>\n",
       "      <th></th>\n",
       "      <th></th>\n",
       "      <th></th>\n",
       "      <th></th>\n",
       "      <th></th>\n",
       "      <th></th>\n",
       "      <th></th>\n",
       "    </tr>\n",
       "  </thead>\n",
       "  <tbody>\n",
       "    <tr>\n",
       "      <th>2020-01-02</th>\n",
       "      <td>28.684000</td>\n",
       "      <td>28.684000</td>\n",
       "      <td>0.0</td>\n",
       "      <td>28.713333</td>\n",
       "      <td>28.114000</td>\n",
       "      <td>28.299999</td>\n",
       "      <td>0.0</td>\n",
       "      <td>142981500</td>\n",
       "    </tr>\n",
       "    <tr>\n",
       "      <th>2020-01-03</th>\n",
       "      <td>29.534000</td>\n",
       "      <td>29.534000</td>\n",
       "      <td>0.0</td>\n",
       "      <td>30.266666</td>\n",
       "      <td>29.128000</td>\n",
       "      <td>29.366667</td>\n",
       "      <td>0.0</td>\n",
       "      <td>266677500</td>\n",
       "    </tr>\n",
       "    <tr>\n",
       "      <th>2020-01-06</th>\n",
       "      <td>30.102667</td>\n",
       "      <td>30.102667</td>\n",
       "      <td>0.0</td>\n",
       "      <td>30.104000</td>\n",
       "      <td>29.333332</td>\n",
       "      <td>29.364668</td>\n",
       "      <td>0.0</td>\n",
       "      <td>151995000</td>\n",
       "    </tr>\n",
       "    <tr>\n",
       "      <th>2020-01-07</th>\n",
       "      <td>31.270666</td>\n",
       "      <td>31.270666</td>\n",
       "      <td>0.0</td>\n",
       "      <td>31.441999</td>\n",
       "      <td>30.224001</td>\n",
       "      <td>30.760000</td>\n",
       "      <td>0.0</td>\n",
       "      <td>268231500</td>\n",
       "    </tr>\n",
       "    <tr>\n",
       "      <th>2020-01-08</th>\n",
       "      <td>32.809334</td>\n",
       "      <td>32.809334</td>\n",
       "      <td>0.0</td>\n",
       "      <td>33.232666</td>\n",
       "      <td>31.215334</td>\n",
       "      <td>31.580000</td>\n",
       "      <td>0.0</td>\n",
       "      <td>467164500</td>\n",
       "    </tr>\n",
       "    <tr>\n",
       "      <th>...</th>\n",
       "      <td>...</td>\n",
       "      <td>...</td>\n",
       "      <td>...</td>\n",
       "      <td>...</td>\n",
       "      <td>...</td>\n",
       "      <td>...</td>\n",
       "      <td>...</td>\n",
       "      <td>...</td>\n",
       "    </tr>\n",
       "    <tr>\n",
       "      <th>2024-12-24</th>\n",
       "      <td>462.279999</td>\n",
       "      <td>462.279999</td>\n",
       "      <td>0.0</td>\n",
       "      <td>462.779999</td>\n",
       "      <td>435.140015</td>\n",
       "      <td>435.899994</td>\n",
       "      <td>0.0</td>\n",
       "      <td>59551800</td>\n",
       "    </tr>\n",
       "    <tr>\n",
       "      <th>2024-12-26</th>\n",
       "      <td>454.130005</td>\n",
       "      <td>454.130005</td>\n",
       "      <td>0.0</td>\n",
       "      <td>465.329987</td>\n",
       "      <td>451.019989</td>\n",
       "      <td>465.160004</td>\n",
       "      <td>0.0</td>\n",
       "      <td>76366400</td>\n",
       "    </tr>\n",
       "    <tr>\n",
       "      <th>2024-12-27</th>\n",
       "      <td>431.660004</td>\n",
       "      <td>431.660004</td>\n",
       "      <td>0.0</td>\n",
       "      <td>450.000000</td>\n",
       "      <td>426.500000</td>\n",
       "      <td>449.519989</td>\n",
       "      <td>0.0</td>\n",
       "      <td>82666800</td>\n",
       "    </tr>\n",
       "    <tr>\n",
       "      <th>2024-12-30</th>\n",
       "      <td>417.410004</td>\n",
       "      <td>417.410004</td>\n",
       "      <td>0.0</td>\n",
       "      <td>427.000000</td>\n",
       "      <td>415.750000</td>\n",
       "      <td>419.399994</td>\n",
       "      <td>0.0</td>\n",
       "      <td>64941000</td>\n",
       "    </tr>\n",
       "    <tr>\n",
       "      <th>2024-12-31</th>\n",
       "      <td>403.839996</td>\n",
       "      <td>403.839996</td>\n",
       "      <td>0.0</td>\n",
       "      <td>427.929993</td>\n",
       "      <td>402.540009</td>\n",
       "      <td>423.790009</td>\n",
       "      <td>0.0</td>\n",
       "      <td>76825100</td>\n",
       "    </tr>\n",
       "  </tbody>\n",
       "</table>\n",
       "<p>1258 rows × 8 columns</p>\n",
       "</div>"
      ],
      "text/plain": [
       "Price        Adj Close       Close Dividends        High         Low  \\\n",
       "Ticker            TSLA        TSLA      TSLA        TSLA        TSLA   \n",
       "Date                                                                   \n",
       "2020-01-02   28.684000   28.684000       0.0   28.713333   28.114000   \n",
       "2020-01-03   29.534000   29.534000       0.0   30.266666   29.128000   \n",
       "2020-01-06   30.102667   30.102667       0.0   30.104000   29.333332   \n",
       "2020-01-07   31.270666   31.270666       0.0   31.441999   30.224001   \n",
       "2020-01-08   32.809334   32.809334       0.0   33.232666   31.215334   \n",
       "...                ...         ...       ...         ...         ...   \n",
       "2024-12-24  462.279999  462.279999       0.0  462.779999  435.140015   \n",
       "2024-12-26  454.130005  454.130005       0.0  465.329987  451.019989   \n",
       "2024-12-27  431.660004  431.660004       0.0  450.000000  426.500000   \n",
       "2024-12-30  417.410004  417.410004       0.0  427.000000  415.750000   \n",
       "2024-12-31  403.839996  403.839996       0.0  427.929993  402.540009   \n",
       "\n",
       "Price             Open Stock Splits     Volume  \n",
       "Ticker            TSLA         TSLA       TSLA  \n",
       "Date                                            \n",
       "2020-01-02   28.299999          0.0  142981500  \n",
       "2020-01-03   29.366667          0.0  266677500  \n",
       "2020-01-06   29.364668          0.0  151995000  \n",
       "2020-01-07   30.760000          0.0  268231500  \n",
       "2020-01-08   31.580000          0.0  467164500  \n",
       "...                ...          ...        ...  \n",
       "2024-12-24  435.899994          0.0   59551800  \n",
       "2024-12-26  465.160004          0.0   76366400  \n",
       "2024-12-27  449.519989          0.0   82666800  \n",
       "2024-12-30  419.399994          0.0   64941000  \n",
       "2024-12-31  423.790009          0.0   76825100  \n",
       "\n",
       "[1258 rows x 8 columns]"
      ]
     },
     "execution_count": 3,
     "metadata": {},
     "output_type": "execute_result"
    }
   ],
   "source": [
    "stock_data"
   ]
  },
  {
   "cell_type": "code",
   "execution_count": 4,
   "id": "3a301902-9339-4eeb-9589-5ae19cd88aea",
   "metadata": {},
   "outputs": [
    {
     "name": "stderr",
     "output_type": "stream",
     "text": [
      "/var/folders/y_/n4ck7tvs3f521rw37q7654400000gn/T/ipykernel_25802/838504062.py:13: PerformanceWarning: dropping on a non-lexsorted multi-index without a level parameter may impact performance.\n",
      "  features_clean = data.drop(columns=['target'])\n"
     ]
    }
   ],
   "source": [
    "# Feature Selection\n",
    "\n",
    "stock_features = stock_data[[\"Open\", \"High\", \"Low\", \"Adj Close\", \"Volume\"]].copy()\n",
    "stock_features[\"Log Returns\"] = np.log(stock_features[\"Adj Close\"]/stock_features[\"Adj Close\"].shift(1))\n",
    "stock_features[\"Price Change\"] = stock_features[\"Adj Close\"] - stock_features[\"Adj Close\"].shift(1)\n",
    "target = (stock_features[\"Adj Close\"].shift(-1) > stock_features[\"Adj Close\"]).astype(int)\n",
    "data = stock_features.copy()\n",
    "data['target'] = target\n",
    "\n",
    "# Clean\n",
    "\n",
    "data = data.dropna()\n",
    "features_clean = data.drop(columns=['target'])\n",
    "labels_clean = data['target']\n",
    "\n",
    "\n",
    "# Scale\n",
    "scaler = MinMaxScaler()\n",
    "features_scaled = scaler.fit_transform(features_clean)\n",
    "\n",
    "label_array = labels_clean.to_numpy()\n",
    "\n",
    "\n",
    "\n"
   ]
  },
  {
   "cell_type": "markdown",
   "id": "a93f085f-b4c4-4127-aef1-b76b53ee67e2",
   "metadata": {
    "jp-MarkdownHeadingCollapsed": true
   },
   "source": [
    "# Preliminary Test"
   ]
  },
  {
   "cell_type": "code",
   "execution_count": 5,
   "id": "ffd5293e-4f40-44af-93bd-ac69662a53c1",
   "metadata": {},
   "outputs": [],
   "source": [
    "x_train, x_test, y_train, y_test = train_test_split(features_scaled, label_array, test_size = .2)"
   ]
  },
  {
   "cell_type": "code",
   "execution_count": 6,
   "id": "4cd57aa7-a579-4a64-9165-e2e21c2c2b35",
   "metadata": {},
   "outputs": [],
   "source": [
    "# Create Qubits\n",
    "n_qubits = x_train.shape[1] # Select qubits = to the number of columns\n",
    "dev = qml.device(\"default.qubit\", wires=n_qubits) # We are simulating a quantum system with pennylanes default"
   ]
  },
  {
   "cell_type": "code",
   "execution_count": 7,
   "id": "b0f3d7a9-60da-4c23-8960-ccd866b5221a",
   "metadata": {},
   "outputs": [],
   "source": [
    "# Angle Encoding Circut\n",
    "@qml.qnode(dev)\n",
    "def circut(x1, x2):\n",
    "    qml.templates.AngleEmbedding(x1, wires=range(n_qubits)) # template that applies rotation aroundy axis by default!\n",
    "    qml.adjoint(qml.templates.AngleEmbedding)(x2, wires=range(n_qubits)) # calculates the hermitian adjoint (inverse)\n",
    "    return qml.probs(wires=range(n_qubits))\n",
    "\n",
    "\n",
    "\n",
    "# Create Kernel Funnction with quantum circut\n",
    "def quantum_kernel(x1, x2):\n",
    "    return circut(x1, x2)[0]\n"
   ]
  },
  {
   "cell_type": "markdown",
   "id": "d7917925-3e11-4539-8a33-ecc58fab9820",
   "metadata": {},
   "source": [
    "We use angle encoding to map classical data into quantum states by creating SU(2) rotations from the input features and applying them to an initial quantum state."
   ]
  },
  {
   "cell_type": "code",
   "execution_count": 8,
   "id": "379a07ea-45df-4e1b-8863-8c2e0be591c4",
   "metadata": {},
   "outputs": [
    {
     "name": "stdout",
     "output_type": "stream",
     "text": [
      "CPU times: user 1e+03 ns, sys: 1e+03 ns, total: 2 μs\n",
      "Wall time: 2.86 μs\n",
      "ROC AUC: 0.5693435268844379\n",
      "PR AUC: 0.6182518865431719\n",
      "Precision: 0.5277777777777778\n",
      "Recall: 1.0\n",
      "F1 Score: 0.6909090909090909\n",
      "Accuracy: 0.5277777777777778\n"
     ]
    }
   ],
   "source": [
    "%time\n",
    "x_train_kernel = square_kernel_matrix(x_train, kernel=quantum_kernel)\n",
    "x_test_kernel = kernel_matrix(x_test, x_train, kernel=quantum_kernel)\n",
    "\n",
    "# Train the SVM\n",
    "clf = SVC(kernel='precomputed')\n",
    "clf.fit(x_train_kernel, y_train)\n",
    "\n",
    "y_pred = clf.predict(x_test_kernel)\n",
    "\n",
    "\n",
    "# Metrics\n",
    "y_scores = clf.decision_function(x_test_kernel)\n",
    "roc_auc = roc_auc_score(y_test, y_scores)\n",
    "pr_auc = average_precision_score(y_test, y_scores)\n",
    "precision = precision_score(y_test, y_pred, average='binary')\n",
    "recall = recall_score(y_test, y_pred, average='binary')\n",
    "f1 = f1_score(y_test, y_pred, average='binary')\n",
    "accuracy = accuracy_score(y_test, y_pred)\n",
    "\n",
    "print(\"ROC AUC:\", roc_auc)\n",
    "print(\"PR AUC:\", pr_auc)\n",
    "\n",
    "\n",
    "print(f\"Precision: {precision}\")\n",
    "print(f\"Recall: {recall}\")\n",
    "print(f\"F1 Score: {f1}\")\n",
    "print(f\"Accuracy: {accuracy}\")\n"
   ]
  },
  {
   "cell_type": "code",
   "execution_count": 9,
   "id": "ec08a95d-80fb-4969-8759-5b4ac04d38de",
   "metadata": {},
   "outputs": [
    {
     "name": "stdout",
     "output_type": "stream",
     "text": [
      "CPU times: user 1e+03 ns, sys: 0 ns, total: 1e+03 ns\n",
      "Wall time: 2.15 μs\n",
      "ROC AUC: 0.5342768686421937\n",
      "PR AUC: 0.5623431602891837\n",
      "Precision: 0.5277777777777778\n",
      "Recall: 1.0\n",
      "F1 Score: 0.6909090909090909\n",
      "Accuracy: 0.5277777777777778\n"
     ]
    }
   ],
   "source": [
    "%time\n",
    "# Optimization: Introduce Entaglement in Feature Maps (CNOT Entaglement)\n",
    "\n",
    "@qml.qnode(dev)\n",
    "def circut(x1, x2):\n",
    "    qml.templates.AngleEmbedding(x1, wires=range(n_qubits))\n",
    "\n",
    "    # CNOT ENTAGLEMENT\n",
    "    for i in range(n_qubits - 1):\n",
    "        qml.CNOT(wires=[i, i + 1])\n",
    "    \n",
    "    qml.adjoint(qml.templates.AngleEmbedding)(x2, wires=range(n_qubits)) \n",
    "    return qml.probs(wires=range(n_qubits))\n",
    "\n",
    "\n",
    "# Kernal Matices\n",
    "x_train_kernel = square_kernel_matrix(x_train, kernel=quantum_kernel)\n",
    "x_test_kernel = kernel_matrix(x_test, x_train, kernel=quantum_kernel)\n",
    "\n",
    "# Train the SVM\n",
    "clf = SVC(kernel='precomputed')\n",
    "clf.fit(x_train_kernel, y_train)\n",
    "\n",
    "y_pred = clf.predict(x_test_kernel)\n",
    "\n",
    "\n",
    "y_scores = clf.decision_function(x_test_kernel)\n",
    "roc_auc = roc_auc_score(y_test, y_scores)\n",
    "pr_auc = average_precision_score(y_test, y_scores)\n",
    "precision = precision_score(y_test, y_pred, average='binary')\n",
    "recall = recall_score(y_test, y_pred, average='binary')\n",
    "f1 = f1_score(y_test, y_pred, average='binary')\n",
    "accuracy = accuracy_score(y_test, y_pred)\n",
    "\n",
    "print(\"ROC AUC:\", roc_auc)\n",
    "print(\"PR AUC:\", pr_auc)\n",
    "\n",
    "\n",
    "print(f\"Precision: {precision}\")\n",
    "print(f\"Recall: {recall}\")\n",
    "print(f\"F1 Score: {f1}\")\n",
    "print(f\"Accuracy: {accuracy}\")\n"
   ]
  },
  {
   "cell_type": "code",
   "execution_count": 10,
   "id": "7f70c864-e0c1-4a64-b5c2-dd64a4febdce",
   "metadata": {},
   "outputs": [
    {
     "name": "stdout",
     "output_type": "stream",
     "text": [
      "CPU times: user 1 μs, sys: 0 ns, total: 1 μs\n",
      "Wall time: 2.15 μs\n",
      "Accuracy: 0.5277777777777778\n",
      "PR AUC: 0.5623431602891837\n",
      "Precision: 0.5277777777777778\n",
      "Recall: 1.0\n",
      "F1 Score: 0.6909090909090909\n",
      "Accuracy: 0.5277777777777778\n"
     ]
    }
   ],
   "source": [
    "%time\n",
    "# Optimization: Introduce Entaglement in Feature Maps (XX Entaglement)\n",
    "\n",
    "@qml.qnode(dev)\n",
    "def circuit(x1, x2):\n",
    "    qml.templates.AngleEmbedding(x1, wires=range(n_qubits))\n",
    "    \n",
    "    # Ising Entaglment\n",
    "    for i in range(n_qubits - 1):\n",
    "        qml.IsingXX(np.pi / 2, wires=[i, i + 1])\n",
    "    \n",
    "    qml.adjoint(qml.templates.AngleEmbedding)(x2, wires=range(n_qubits))\n",
    "    return qml.probs(wires=range(n_qubits))\n",
    "\n",
    "# Kernal Matices\n",
    "x_train_kernel = square_kernel_matrix(x_train, kernel=quantum_kernel)\n",
    "x_test_kernel = kernel_matrix(x_test, x_train, kernel=quantum_kernel)\n",
    "\n",
    "# Train the SVM\n",
    "clf = SVC(kernel='precomputed')\n",
    "clf.fit(x_train_kernel, y_train)\n",
    "\n",
    "y_pred = clf.predict(x_test_kernel)\n",
    "\n",
    "print(\"Accuracy:\", accuracy_score(y_test, y_pred))\n",
    "print(\"PR AUC:\", pr_auc)\n",
    "print(f\"Precision: {precision}\")\n",
    "print(f\"Recall: {recall}\")\n",
    "print(f\"F1 Score: {f1}\")\n",
    "print(f\"Accuracy: {accuracy}\")"
   ]
  },
  {
   "cell_type": "code",
   "execution_count": 11,
   "id": "50edc3fd-d4f5-4448-8f05-de65d574c402",
   "metadata": {},
   "outputs": [
    {
     "name": "stdout",
     "output_type": "stream",
     "text": [
      "CPU times: user 0 ns, sys: 0 ns, total: 0 ns\n",
      "Wall time: 1.91 μs\n",
      "Accuracy: 0.5277777777777778\n",
      "PR AUC: 0.5623431602891837\n",
      "Precision: 0.5277777777777778\n",
      "Recall: 1.0\n",
      "F1 Score: 0.6909090909090909\n",
      "Accuracy: 0.5277777777777778\n"
     ]
    }
   ],
   "source": [
    "%time\n",
    "# Optimization With Layers\n",
    "\n",
    "@qml.qnode(dev)\n",
    "def circuit(x1, x2):\n",
    "    qml.templates.AngleEmbedding(x1, wires=range(n_qubits))\n",
    "    \n",
    "    # Ising entanglement between neighbors\n",
    "    for _ in range(n_layers):  \n",
    "        for i in range(n_qubits - 1):\n",
    "            qml.IsingXX(np.pi / 2, wires=[i, i + 1])\n",
    "        for i in range(n_qubits):\n",
    "            qml.RY(np.pi / 4, wires=i)  \n",
    "    \n",
    "    qml.adjoint(qml.templates.AngleEmbedding)(x2, wires=range(n_qubits))\n",
    "    return qml.probs(wires=range(n_qubits))\n",
    "\n",
    "# Kernal Matices\n",
    "x_train_kernel = square_kernel_matrix(x_train, kernel=quantum_kernel)\n",
    "x_test_kernel = kernel_matrix(x_test, x_train, kernel=quantum_kernel)\n",
    "\n",
    "# Train the SVM\n",
    "clf = SVC(kernel='precomputed')\n",
    "clf.fit(x_train_kernel, y_train)\n",
    "\n",
    "y_pred = clf.predict(x_test_kernel)\n",
    "\n",
    "print(\"Accuracy:\", accuracy_score(y_test, y_pred))\n",
    "print(\"PR AUC:\", pr_auc)\n",
    "print(f\"Precision: {precision}\")\n",
    "print(f\"Recall: {recall}\")\n",
    "print(f\"F1 Score: {f1}\")\n",
    "print(f\"Accuracy: {accuracy}\")"
   ]
  },
  {
   "cell_type": "markdown",
   "id": "92b792dc-5651-42c7-9a58-58b8a9e2caf2",
   "metadata": {
    "jp-MarkdownHeadingCollapsed": true
   },
   "source": [
    "# Further Feature Engineering\n"
   ]
  },
  {
   "cell_type": "markdown",
   "id": "cd8b182c-aae2-4688-bc56-365a2d042d60",
   "metadata": {
    "jp-MarkdownHeadingCollapsed": true
   },
   "source": [
    "## Momentum Indicators"
   ]
  },
  {
   "cell_type": "code",
   "execution_count": 17,
   "id": "77dd5243-452a-4136-8004-574ef96e2fa2",
   "metadata": {},
   "outputs": [],
   "source": [
    "# Reinit Data (Want to Drop NA after adding new features)\n",
    "data = stock_features.copy()\n",
    "data['target'] = target"
   ]
  },
  {
   "cell_type": "code",
   "execution_count": 18,
   "id": "0dc90b3f-7429-4182-8390-4499d3898e3d",
   "metadata": {},
   "outputs": [],
   "source": [
    "# Realative Strenght Index\n",
    "def compute_rsi(series, period=14):\n",
    "    delta = series.diff()\n",
    "    gain = (delta.where(delta > 0, 0)).rolling(window=period).mean()\n",
    "    loss = (-delta.where(delta < 0, 0)).rolling(window=period).mean()\n",
    "    rs = gain / loss\n",
    "    return 100 - (100 / (1 + rs))\n",
    "\n",
    "data[\"RSI\"] = compute_rsi(data[\"Adj Close\"])\n"
   ]
  },
  {
   "cell_type": "code",
   "execution_count": 19,
   "id": "9f48ceee-cedb-4621-bb20-ceb7bdf246b5",
   "metadata": {},
   "outputs": [],
   "source": [
    "# Momentum \n",
    "data[\"Momentum\"] = data[\"Adj Close\"] - data[\"Adj Close\"].shift(10)"
   ]
  },
  {
   "cell_type": "code",
   "execution_count": 20,
   "id": "7645809a-5ba6-4be1-8dbc-4081288fb3fd",
   "metadata": {},
   "outputs": [
    {
     "name": "stderr",
     "output_type": "stream",
     "text": [
      "/var/folders/y_/n4ck7tvs3f521rw37q7654400000gn/T/ipykernel_25802/3821203942.py:2: PerformanceWarning: dropping on a non-lexsorted multi-index without a level parameter may impact performance.\n",
      "  features_clean = data.drop(columns=['target'])\n"
     ]
    }
   ],
   "source": [
    "data = data.dropna()\n",
    "features_clean = data.drop(columns=['target'])\n",
    "labels_clean = data['target']\n",
    "\n",
    "\n",
    "# Scale\n",
    "scaler = MinMaxScaler()\n",
    "features_scaled = scaler.fit_transform(features_clean)\n",
    "\n",
    "label_array = labels_clean.to_numpy()"
   ]
  },
  {
   "cell_type": "code",
   "execution_count": 21,
   "id": "efea7c59-1b1d-4c23-b2df-9b94c7d4d9e4",
   "metadata": {},
   "outputs": [],
   "source": [
    "x_train, x_test, y_train, y_test = train_test_split(features_scaled, label_array, test_size = .2)\n",
    "\n",
    "n_qubits = x_train.shape[1] # Select qubits = to the number of columns\n",
    "dev = qml.device(\"default.qubit\", wires=n_qubits)\n",
    "# Angle Encoding Circut\n",
    "@qml.qnode(dev)\n",
    "def circut(x1, x2):\n",
    "    qml.templates.AngleEmbedding(x1, wires=range(n_qubits)) # template that applies rotation aroundy axis by default!\n",
    "    qml.adjoint(qml.templates.AngleEmbedding)(x2, wires=range(n_qubits)) # calculates the hermitian adjoint (inverse)\n",
    "    return qml.probs(wires=range(n_qubits))\n",
    "\n",
    "\n",
    "\n",
    "# Create Kernel Funnction with quantum circut\n",
    "def quantum_kernel(x1, x2):\n",
    "    return circut(x1, x2)[0]\n"
   ]
  },
  {
   "cell_type": "code",
   "execution_count": 22,
   "id": "be86d84d-35f3-40c1-8851-107d12467708",
   "metadata": {},
   "outputs": [
    {
     "name": "stdout",
     "output_type": "stream",
     "text": [
      "CPU times: user 3 μs, sys: 1 μs, total: 4 μs\n",
      "Wall time: 5.72 μs\n",
      "ROC AUC: 0.569250645994832\n",
      "PR AUC: 0.5744516634110582\n",
      "Precision: 0.5180722891566265\n",
      "Recall: 1.0\n",
      "F1 Score: 0.6825396825396826\n",
      "Accuracy: 0.5180722891566265\n"
     ]
    }
   ],
   "source": [
    "%time\n",
    "\n",
    "x_train_kernel = square_kernel_matrix(x_train, kernel=quantum_kernel)\n",
    "x_test_kernel = kernel_matrix(x_test, x_train, kernel=quantum_kernel)\n",
    "\n",
    "# Train the SVM\n",
    "clf = SVC(kernel='precomputed')\n",
    "clf.fit(x_train_kernel, y_train)\n",
    "\n",
    "y_pred = clf.predict(x_test_kernel)\n",
    "\n",
    "\n",
    "\n",
    "# Metrics\n",
    "from sklearn.metrics import accuracy_score\n",
    "\n",
    "y_scores = clf.decision_function(x_test_kernel)\n",
    "roc_auc = roc_auc_score(y_test, y_scores)\n",
    "pr_auc = average_precision_score(y_test, y_scores)\n",
    "precision = precision_score(y_test, y_pred, average='binary')\n",
    "recall = recall_score(y_test, y_pred, average='binary')\n",
    "f1 = f1_score(y_test, y_pred, average='binary')\n",
    "accuracy = accuracy_score(y_test, y_pred)\n",
    "\n",
    "print(\"ROC AUC:\", roc_auc)\n",
    "print(\"PR AUC:\", pr_auc)\n",
    "\n",
    "\n",
    "print(f\"Precision: {precision}\")\n",
    "print(f\"Recall: {recall}\")\n",
    "print(f\"F1 Score: {f1}\")\n",
    "print(f\"Accuracy: {accuracy}\")\n",
    "\n",
    "\n",
    "\n"
   ]
  },
  {
   "cell_type": "markdown",
   "id": "ef5cf54c-fa61-4a12-88e7-84df17fc1367",
   "metadata": {
    "jp-MarkdownHeadingCollapsed": true
   },
   "source": [
    "### Entagnlement Tests"
   ]
  },
  {
   "cell_type": "code",
   "execution_count": 23,
   "id": "af1a7e67-dc80-493c-8f88-e696c1e6348d",
   "metadata": {},
   "outputs": [
    {
     "name": "stdout",
     "output_type": "stream",
     "text": [
      "CPU times: user 4 μs, sys: 2 μs, total: 6 μs\n",
      "Wall time: 11.2 μs\n",
      "ROC AUC: 0.487532299741602\n",
      "PR AUC: 0.5008802175333189\n",
      "Precision: 0.5180722891566265\n",
      "Recall: 1.0\n",
      "F1 Score: 0.6825396825396826\n",
      "Accuracy: 0.5180722891566265\n"
     ]
    }
   ],
   "source": [
    "%time\n",
    "# Optimization: Introduce Entaglement in Feature Maps (CNOT Entaglement)\n",
    "\n",
    "@qml.qnode(dev)\n",
    "def circut(x1, x2):\n",
    "    qml.templates.AngleEmbedding(x1, wires=range(n_qubits))\n",
    "\n",
    "    # CNOT ENTAGLEMENT\n",
    "    for i in range(n_qubits - 1):\n",
    "        qml.CNOT(wires=[i, i + 1])\n",
    "    \n",
    "    qml.adjoint(qml.templates.AngleEmbedding)(x2, wires=range(n_qubits)) \n",
    "    return qml.probs(wires=range(n_qubits))\n",
    "\n",
    "\n",
    "# Kernal Matices\n",
    "x_train_kernel = square_kernel_matrix(x_train, kernel=quantum_kernel)\n",
    "x_test_kernel = kernel_matrix(x_test, x_train, kernel=quantum_kernel)\n",
    "\n",
    "# Train the SVM\n",
    "clf = SVC(kernel='precomputed')\n",
    "clf.fit(x_train_kernel, y_train)\n",
    "\n",
    "y_pred = clf.predict(x_test_kernel)\n",
    "\n",
    "\n",
    "y_scores = clf.decision_function(x_test_kernel)\n",
    "roc_auc = roc_auc_score(y_test, y_scores)\n",
    "pr_auc = average_precision_score(y_test, y_scores)\n",
    "precision = precision_score(y_test, y_pred, average='binary')\n",
    "recall = recall_score(y_test, y_pred, average='binary')\n",
    "f1 = f1_score(y_test, y_pred, average='binary')\n",
    "accuracy = accuracy_score(y_test, y_pred)\n",
    "\n",
    "print(\"ROC AUC:\", roc_auc)\n",
    "print(\"PR AUC:\", pr_auc)\n",
    "\n",
    "\n",
    "print(f\"Precision: {precision}\")\n",
    "print(f\"Recall: {recall}\")\n",
    "print(f\"F1 Score: {f1}\")\n",
    "print(f\"Accuracy: {accuracy}\")\n"
   ]
  },
  {
   "cell_type": "code",
   "execution_count": 24,
   "id": "cc0ca513-ded9-40a0-8037-e579ef9cb1cb",
   "metadata": {},
   "outputs": [
    {
     "name": "stdout",
     "output_type": "stream",
     "text": [
      "CPU times: user 1 μs, sys: 1 μs, total: 2 μs\n",
      "Wall time: 1.91 μs\n",
      "Accuracy: 0.5180722891566265\n",
      "PR AUC: 0.5008802175333189\n",
      "Precision: 0.5180722891566265\n",
      "Recall: 1.0\n",
      "F1 Score: 0.6825396825396826\n",
      "Accuracy: 0.5180722891566265\n"
     ]
    }
   ],
   "source": [
    "%time\n",
    "# Optimization: Introduce Entaglement in Feature Maps (XX Entaglement)\n",
    "\n",
    "@qml.qnode(dev)\n",
    "def circuit(x1, x2):\n",
    "    qml.templates.AngleEmbedding(x1, wires=range(n_qubits))\n",
    "    \n",
    "    # Ising Entaglment\n",
    "    for i in range(n_qubits - 1):\n",
    "        qml.IsingXX(np.pi / 2, wires=[i, i + 1])\n",
    "    \n",
    "    qml.adjoint(qml.templates.AngleEmbedding)(x2, wires=range(n_qubits))\n",
    "    return qml.probs(wires=range(n_qubits))\n",
    "\n",
    "# Kernal Matices\n",
    "x_train_kernel = square_kernel_matrix(x_train, kernel=quantum_kernel)\n",
    "x_test_kernel = kernel_matrix(x_test, x_train, kernel=quantum_kernel)\n",
    "\n",
    "# Train the SVM\n",
    "clf = SVC(kernel='precomputed')\n",
    "clf.fit(x_train_kernel, y_train)\n",
    "\n",
    "y_pred = clf.predict(x_test_kernel)\n",
    "\n",
    "print(\"Accuracy:\", accuracy_score(y_test, y_pred))\n",
    "print(\"PR AUC:\", pr_auc)\n",
    "print(f\"Precision: {precision}\")\n",
    "print(f\"Recall: {recall}\")\n",
    "print(f\"F1 Score: {f1}\")\n",
    "print(f\"Accuracy: {accuracy}\")"
   ]
  },
  {
   "cell_type": "code",
   "execution_count": 25,
   "id": "79d0f277-223b-4ec6-92cb-b01d722f6e3c",
   "metadata": {},
   "outputs": [
    {
     "name": "stdout",
     "output_type": "stream",
     "text": [
      "CPU times: user 1 μs, sys: 1e+03 ns, total: 2 μs\n",
      "Wall time: 5.01 μs\n",
      "Accuracy: 0.5180722891566265\n",
      "PR AUC: 0.5008802175333189\n",
      "Precision: 0.5180722891566265\n",
      "Recall: 1.0\n",
      "F1 Score: 0.6825396825396826\n",
      "Accuracy: 0.5180722891566265\n"
     ]
    }
   ],
   "source": [
    "%time\n",
    "# Optimization With Layers\n",
    "\n",
    "@qml.qnode(dev)\n",
    "def circuit(x1, x2):\n",
    "    qml.templates.AngleEmbedding(x1, wires=range(n_qubits))\n",
    "    \n",
    "    # Ising entanglement between neighbors\n",
    "    for _ in range(n_layers):  \n",
    "        for i in range(n_qubits - 1):\n",
    "            qml.IsingXX(np.pi / 2, wires=[i, i + 1])\n",
    "        for i in range(n_qubits):\n",
    "            qml.RY(np.pi / 4, wires=i)  \n",
    "    \n",
    "    qml.adjoint(qml.templates.AngleEmbedding)(x2, wires=range(n_qubits))\n",
    "    return qml.probs(wires=range(n_qubits))\n",
    "\n",
    "# Kernal Matices\n",
    "x_train_kernel = square_kernel_matrix(x_train, kernel=quantum_kernel)\n",
    "x_test_kernel = kernel_matrix(x_test, x_train, kernel=quantum_kernel)\n",
    "\n",
    "# Train the SVM\n",
    "clf = SVC(kernel='precomputed')\n",
    "clf.fit(x_train_kernel, y_train)\n",
    "\n",
    "y_pred = clf.predict(x_test_kernel)\n",
    "\n",
    "print(\"Accuracy:\", accuracy_score(y_test, y_pred))\n",
    "print(\"PR AUC:\", pr_auc)\n",
    "print(f\"Precision: {precision}\")\n",
    "print(f\"Recall: {recall}\")\n",
    "print(f\"F1 Score: {f1}\")\n",
    "print(f\"Accuracy: {accuracy}\")"
   ]
  },
  {
   "cell_type": "markdown",
   "id": "4f294eef-7587-4c40-8b3c-9d2ea2baa16e",
   "metadata": {},
   "source": [
    "### Remove Linear Indicator"
   ]
  },
  {
   "cell_type": "code",
   "execution_count": 26,
   "id": "7eb94187-7a4d-409f-9abb-97f1049d896d",
   "metadata": {},
   "outputs": [
    {
     "name": "stderr",
     "output_type": "stream",
     "text": [
      "/var/folders/y_/n4ck7tvs3f521rw37q7654400000gn/T/ipykernel_25802/2683126632.py:7: PerformanceWarning: dropping on a non-lexsorted multi-index without a level parameter may impact performance.\n",
      "  features_clean = data.drop(columns=['target'])\n"
     ]
    },
    {
     "name": "stdout",
     "output_type": "stream",
     "text": [
      "CPU times: user 1 μs, sys: 0 ns, total: 1 μs\n",
      "Wall time: 4.05 μs\n",
      "ROC AUC: 0.49230769230769234\n",
      "PR AUC: 0.5346264234611503\n",
      "Precision: 0.5220883534136547\n",
      "Recall: 1.0\n",
      "F1 Score: 0.6860158311345647\n",
      "Accuracy: 0.5220883534136547\n"
     ]
    }
   ],
   "source": [
    "# Run Without Momentum\n",
    "data = stock_features.copy()\n",
    "data['target'] = target\n",
    "data[\"RSI\"] = compute_rsi(data[\"Adj Close\"])\n",
    "\n",
    "data = data.dropna()\n",
    "features_clean = data.drop(columns=['target'])\n",
    "labels_clean = data['target']\n",
    "\n",
    "\n",
    "# Scale\n",
    "scaler = MinMaxScaler()\n",
    "features_scaled = scaler.fit_transform(features_clean)\n",
    "\n",
    "label_array = labels_clean.to_numpy()\n",
    "\n",
    "x_train, x_test, y_train, y_test = train_test_split(features_scaled, label_array, test_size = .2)\n",
    "\n",
    "n_qubits = x_train.shape[1] # Select qubits = to the number of columns\n",
    "dev = qml.device(\"default.qubit\", wires=n_qubits)\n",
    "\n",
    "\n",
    "%time\n",
    "\n",
    "x_train_kernel = square_kernel_matrix(x_train, kernel=quantum_kernel)\n",
    "x_test_kernel = kernel_matrix(x_test, x_train, kernel=quantum_kernel)\n",
    "\n",
    "# Train the SVM\n",
    "clf = SVC(kernel='precomputed')\n",
    "clf.fit(x_train_kernel, y_train)\n",
    "\n",
    "y_pred = clf.predict(x_test_kernel)\n",
    "\n",
    "\n",
    "\n",
    "# Metrics\n",
    "from sklearn.metrics import accuracy_score\n",
    "\n",
    "y_scores = clf.decision_function(x_test_kernel)\n",
    "roc_auc = roc_auc_score(y_test, y_scores)\n",
    "pr_auc = average_precision_score(y_test, y_scores)\n",
    "precision = precision_score(y_test, y_pred, average='binary')\n",
    "recall = recall_score(y_test, y_pred, average='binary')\n",
    "f1 = f1_score(y_test, y_pred, average='binary')\n",
    "accuracy = accuracy_score(y_test, y_pred)\n",
    "\n",
    "print(\"ROC AUC:\", roc_auc)\n",
    "print(\"PR AUC:\", pr_auc)\n",
    "\n",
    "\n",
    "print(f\"Precision: {precision}\")\n",
    "print(f\"Recall: {recall}\")\n",
    "print(f\"F1 Score: {f1}\")\n",
    "print(f\"Accuracy: {accuracy}\")"
   ]
  },
  {
   "cell_type": "code",
   "execution_count": 28,
   "id": "410e6e50-d5d4-44f6-92a6-3d054ddf685b",
   "metadata": {},
   "outputs": [
    {
     "name": "stderr",
     "output_type": "stream",
     "text": [
      "/var/folders/y_/n4ck7tvs3f521rw37q7654400000gn/T/ipykernel_25802/3118848659.py:8: PerformanceWarning: dropping on a non-lexsorted multi-index without a level parameter may impact performance.\n",
      "  features_clean = data.drop(columns=['target'])\n"
     ]
    },
    {
     "name": "stdout",
     "output_type": "stream",
     "text": [
      "CPU times: user 1 μs, sys: 1e+03 ns, total: 2 μs\n",
      "Wall time: 5.25 μs\n",
      "ROC AUC: 0.5448434799308624\n",
      "PR AUC: 0.5668982366038341\n",
      "Precision: 0.508\n",
      "Recall: 1.0\n",
      "F1 Score: 0.6737400530503979\n",
      "Accuracy: 0.508\n"
     ]
    }
   ],
   "source": [
    "# Without RSI\n",
    "\n",
    "data = stock_features.copy()\n",
    "data['target'] = target\n",
    "data[\"Momentum\"] = data[\"Adj Close\"] - data[\"Adj Close\"].shift(10)\n",
    "\n",
    "data = data.dropna()\n",
    "features_clean = data.drop(columns=['target'])\n",
    "labels_clean = data['target']\n",
    "\n",
    "\n",
    "# Scale\n",
    "scaler = MinMaxScaler()\n",
    "features_scaled = scaler.fit_transform(features_clean)\n",
    "\n",
    "label_array = labels_clean.to_numpy()\n",
    "\n",
    "x_train, x_test, y_train, y_test = train_test_split(features_scaled, label_array, test_size = .2)\n",
    "\n",
    "n_qubits = x_train.shape[1] # Select qubits = to the number of columns\n",
    "dev = qml.device(\"default.qubit\", wires=n_qubits)\n",
    "\n",
    "\n",
    "%time\n",
    "\n",
    "x_train_kernel = square_kernel_matrix(x_train, kernel=quantum_kernel)\n",
    "x_test_kernel = kernel_matrix(x_test, x_train, kernel=quantum_kernel)\n",
    "\n",
    "# Train the SVM\n",
    "clf = SVC(kernel='precomputed')\n",
    "clf.fit(x_train_kernel, y_train)\n",
    "\n",
    "y_pred = clf.predict(x_test_kernel)\n",
    "\n",
    "\n",
    "\n",
    "# Metrics\n",
    "from sklearn.metrics import accuracy_score\n",
    "\n",
    "y_scores = clf.decision_function(x_test_kernel)\n",
    "roc_auc = roc_auc_score(y_test, y_scores)\n",
    "pr_auc = average_precision_score(y_test, y_scores)\n",
    "precision = precision_score(y_test, y_pred, average='binary')\n",
    "recall = recall_score(y_test, y_pred, average='binary')\n",
    "f1 = f1_score(y_test, y_pred, average='binary')\n",
    "accuracy = accuracy_score(y_test, y_pred)\n",
    "\n",
    "print(\"ROC AUC:\", roc_auc)\n",
    "print(\"PR AUC:\", pr_auc)\n",
    "\n",
    "\n",
    "print(f\"Precision: {precision}\")\n",
    "print(f\"Recall: {recall}\")\n",
    "print(f\"F1 Score: {f1}\")\n",
    "print(f\"Accuracy: {accuracy}\")"
   ]
  }
 ],
 "metadata": {
  "kernelspec": {
   "display_name": "Python 3 (ipykernel)",
   "language": "python",
   "name": "python3"
  },
  "language_info": {
   "codemirror_mode": {
    "name": "ipython",
    "version": 3
   },
   "file_extension": ".py",
   "mimetype": "text/x-python",
   "name": "python",
   "nbconvert_exporter": "python",
   "pygments_lexer": "ipython3",
   "version": "3.12.7"
  }
 },
 "nbformat": 4,
 "nbformat_minor": 5
}
